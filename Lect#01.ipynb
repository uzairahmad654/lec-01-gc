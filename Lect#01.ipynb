{
 "cells": [
  {
   "cell_type": "code",
   "execution_count": 2,
   "id": "1cab7f6e-b608-4324-83f4-e41a74181013",
   "metadata": {},
   "outputs": [
    {
     "name": "stdout",
     "output_type": "stream",
     "text": [
      "10\n"
     ]
    }
   ],
   "source": [
    "# Printing Output:\n",
    "a = 10\n",
    "print(a)"
   ]
  },
  {
   "cell_type": "code",
   "execution_count": 1,
   "id": "17744fb5-901d-4591-b775-482a8b927afa",
   "metadata": {},
   "outputs": [
    {
     "name": "stdout",
     "output_type": "stream",
     "text": [
      "Uzair\n"
     ]
    }
   ],
   "source": [
    "# Assigning the values to variables through inputs:\n",
    "name = input(\"Enter Your Name:\")\n",
    "print(name)"
   ]
  },
  {
   "cell_type": "code",
   "execution_count": 3,
   "id": "0080426e-f594-4c8b-abcc-390861cb7b05",
   "metadata": {},
   "outputs": [
    {
     "name": "stdout",
     "output_type": "stream",
     "text": [
      "Your age is:21 and your degree is: BSCS\n"
     ]
    }
   ],
   "source": [
    "# Assigning the values to the variables without specific datatypes:\n",
    "age = 21\n",
    "degree = 'BSCS'\n",
    "print(\"Your age is:\" + str(age) + \" and your degree is: \" + degree)"
   ]
  },
  {
   "cell_type": "code",
   "execution_count": null,
   "id": "72382a91-a258-46ff-ab63-6220b10df998",
   "metadata": {},
   "outputs": [],
   "source": []
  },
  {
   "cell_type": "code",
   "execution_count": null,
   "id": "9bd38a1a-d8c3-463d-8ec8-3cf83f292124",
   "metadata": {},
   "outputs": [],
   "source": []
  }
 ],
 "metadata": {
  "kernelspec": {
   "display_name": "Python 3",
   "language": "python",
   "name": "python3"
  },
  "language_info": {
   "codemirror_mode": {
    "name": "ipython",
    "version": 3
   },
   "file_extension": ".py",
   "mimetype": "text/x-python",
   "name": "python",
   "nbconvert_exporter": "python",
   "pygments_lexer": "ipython3",
   "version": "3.10.11"
  }
 },
 "nbformat": 4,
 "nbformat_minor": 5
}
