{
 "cells": [
  {
   "cell_type": "code",
   "execution_count": 1,
   "id": "e6844f89-df87-491d-8801-616e383254fa",
   "metadata": {},
   "outputs": [
    {
     "name": "stdin",
     "output_type": "stream",
     "text": [
      "Enter your marks:  67\n"
     ]
    },
    {
     "name": "stdout",
     "output_type": "stream",
     "text": [
      "You passed the exam!\n",
      "Grade: B\n"
     ]
    }
   ],
   "source": [
    "# Nested if-elif statemenets:\n",
    "marks = int(input(\"Enter your marks: \"))\n",
    "if marks >= 33:\n",
    "    print(\"You passed the exam!\")\n",
    "    if marks >= 80:\n",
    "        print(\"Grade: A+\")\n",
    "    elif marks >= 70:\n",
    "        print(\"Grade: A\")\n",
    "    elif marks >= 60:\n",
    "        print(\"Grade: B\")\n",
    "    elif marks >= 50:\n",
    "        print(\"Grade: C\")\n",
    "    else:\n",
    "        print(\"Grade: D\")\n",
    "else:\n",
    "    print(\"You failed the exam.\")\n"
   ]
  },
  {
   "cell_type": "code",
   "execution_count": 3,
   "id": "233c62c4-c0cf-4288-aeda-95e54aa4a198",
   "metadata": {},
   "outputs": [
    {
     "name": "stdout",
     "output_type": "stream",
     "text": [
      "I like Apple\n",
      "I like Banana\n",
      "I like Mango\n",
      "I like Orange\n"
     ]
    }
   ],
   "source": [
    "# List of fruits\n",
    "fruits_list = [\"Apple\", \"Banana\", \"Mango\", \"Orange\"]\n",
    "\n",
    "# For loop to print each fruit\n",
    "for fruit in fruits_list:\n",
    "    print(\"I like\", fruit)\n"
   ]
  },
  {
   "cell_type": "code",
   "execution_count": null,
   "id": "348c10f0-e4e9-44a8-b2db-1fb98fa9702f",
   "metadata": {},
   "outputs": [],
   "source": []
  }
 ],
 "metadata": {
  "kernelspec": {
   "display_name": "Python 3 (ipykernel)",
   "language": "python",
   "name": "python3"
  },
  "language_info": {
   "codemirror_mode": {
    "name": "ipython",
    "version": 3
   },
   "file_extension": ".py",
   "mimetype": "text/x-python",
   "name": "python",
   "nbconvert_exporter": "python",
   "pygments_lexer": "ipython3",
   "version": "3.13.2"
  }
 },
 "nbformat": 4,
 "nbformat_minor": 5
}
