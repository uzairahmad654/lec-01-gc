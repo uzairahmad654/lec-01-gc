{
 "cells": [
  {
   "cell_type": "code",
   "execution_count": 2,
   "id": "6377578e-34a9-4874-9770-dfc571949d6e",
   "metadata": {},
   "outputs": [
    {
     "name": "stdout",
     "output_type": "stream",
     "text": [
      "['apple', 'banana', 'cherry']\n"
     ]
    }
   ],
   "source": [
    "# Lists:\n",
    "Lits = [\"apple\", \"banana\", \"cherry\"]\n",
    "print(Lits)"
   ]
  },
  {
   "cell_type": "code",
   "execution_count": null,
   "id": "743fd89c-8a10-4d02-afe1-fbdb6e16199f",
   "metadata": {},
   "outputs": [
    {
     "name": "stdout",
     "output_type": "stream",
     "text": [
      "(1, 2, 3, 4, 5)\n"
     ]
    }
   ],
   "source": [
    "# Tuples:\n",
    "my_tuple = (1, 2, 3, 4, 5)\n",
    "print(my_tuple)"
   ]
  },
  {
   "cell_type": "code",
   "execution_count": null,
   "id": "0f759fd3-f213-4d90-97ee-45ec7318d055",
   "metadata": {},
   "outputs": [],
   "source": []
  }
 ],
 "metadata": {
  "kernelspec": {
   "display_name": "Python 3 (ipykernel)",
   "language": "python",
   "name": "python3"
  },
  "language_info": {
   "codemirror_mode": {
    "name": "ipython",
    "version": 3
   },
   "file_extension": ".py",
   "mimetype": "text/x-python",
   "name": "python",
   "nbconvert_exporter": "python",
   "pygments_lexer": "ipython3",
   "version": "3.13.2"
  }
 },
 "nbformat": 4,
 "nbformat_minor": 5
}
